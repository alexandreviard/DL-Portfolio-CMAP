{
 "cells": [
  {
   "cell_type": "code",
   "execution_count": null,
   "metadata": {},
   "outputs": [
    {
     "name": "stdout",
     "output_type": "stream",
     "text": [
      "The autoreload extension is already loaded. To reload it, use:\n",
      "  %reload_ext autoreload\n"
     ]
    }
   ],
   "source": [
    "from utils.data_fetching import YahooFinanceDataLoader\n",
    "from utils.data_preprocessing import YahooFinanceDataLoader\n",
    "\n",
    "%load_ext autoreload \n",
    "%autoreload 2 "
   ]
  },
  {
   "cell_type": "code",
   "execution_count": null,
   "metadata": {},
   "outputs": [
    {
     "name": "stderr",
     "output_type": "stream",
     "text": [
      "INFO:DataLoader initialized.\n",
      "INFO:Fetching data for AGG\n"
     ]
    },
    {
     "name": "stderr",
     "output_type": "stream",
     "text": [
      "INFO:Fetching data for DBC\n",
      "INFO:Fetching data for VTI\n",
      "INFO:Fetching data for ^VIX\n",
      "INFO:Data for AGG saved to AGG.csv.\n",
      "INFO:Data for DBC saved to DBC.csv.\n",
      "INFO:Data for VTI saved to VTI.csv.\n",
      "INFO:Data for ^VIX saved to ^VIX.csv.\n"
     ]
    },
    {
     "ename": "AttributeError",
     "evalue": "'YahooFinanceDataLoader' object has no attribute 'load_data_data'",
     "output_type": "error",
     "traceback": [
      "\u001b[0;31m---------------------------------------------------------------------------\u001b[0m",
      "\u001b[0;31mAttributeError\u001b[0m                            Traceback (most recent call last)",
      "Cell \u001b[0;32mIn[34], line 9\u001b[0m\n\u001b[1;32m      7\u001b[0m data \u001b[38;5;241m=\u001b[39m DataLoader\u001b[38;5;241m.\u001b[39mfetch_data()\n\u001b[1;32m      8\u001b[0m DataLoader\u001b[38;5;241m.\u001b[39msave_data(data)\n\u001b[0;32m----> 9\u001b[0m DataLoader\u001b[38;5;241m.\u001b[39mload_data_data()\n",
      "\u001b[0;31mAttributeError\u001b[0m: 'YahooFinanceDataLoader' object has no attribute 'load_data_data'"
     ]
    }
   ],
   "source": [
    "# Dataloading \n",
    "\n",
    "tickers = ['AGG', 'DBC', 'VTI', '^VIX']\n",
    "start_date = \"2011-01-01\"\n",
    "end_date = \"2020-04-30\"\n",
    "\n"
   ]
  },
  {
   "cell_type": "code",
   "execution_count": null,
   "metadata": {},
   "outputs": [],
   "source": []
  }
 ],
 "metadata": {
  "kernelspec": {
   "display_name": "base",
   "language": "python",
   "name": "python3"
  },
  "language_info": {
   "codemirror_mode": {
    "name": "ipython",
    "version": 3
   },
   "file_extension": ".py",
   "mimetype": "text/x-python",
   "name": "python",
   "nbconvert_exporter": "python",
   "pygments_lexer": "ipython3",
   "version": "3.12.7"
  }
 },
 "nbformat": 4,
 "nbformat_minor": 2
}
