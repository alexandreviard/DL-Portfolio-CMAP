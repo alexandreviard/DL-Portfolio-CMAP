{
 "cells": [
  {
   "cell_type": "code",
   "execution_count": 267,
   "metadata": {},
   "outputs": [],
   "source": [
    "import numpy as np\n",
    "import yfinance as yf\n",
    "import pandas as pd\n",
    "import matplotlib.pyplot as plt\n",
    "import math"
   ]
  },
  {
   "cell_type": "code",
   "execution_count": 204,
   "metadata": {},
   "outputs": [
    {
     "name": "stderr",
     "output_type": "stream",
     "text": [
      "[*********************100%***********************]  4 of 4 completed\n"
     ]
    }
   ],
   "source": [
    "tickers = ['VTI', 'AGG', 'DBC', '^VIX']\n",
    "data = yf.download(tickers, start=\"2011-01-01\", end=\"2020-04-30\", interval=\"1d\")['Adj Close']\n",
    "data_na = data.dropna(axis = 0)\n",
    "data_na.dropna(axis=0, inplace=True)\n",
    "data_na.reset_index(inplace=True)\n",
    "data_na['Date'] = data_na['Date'].dt.date\n"
   ]
  },
  {
   "cell_type": "code",
   "execution_count": 205,
   "metadata": {},
   "outputs": [],
   "source": [
    "data_na['Date'] = pd.to_datetime(data_na['Date'])\n",
    "initial_allocation = [0.25, 0.25, 0.25, 0.25]"
   ]
  },
  {
   "cell_type": "code",
   "execution_count": 206,
   "metadata": {},
   "outputs": [],
   "source": [
    "# Allocation initiale\n",
    "initial_allocation = [0.25, 0.25, 0.25, 0.25]  # Allocations initiales pour VTI, AGG, DBC, VIX\n",
    "portfolio_value = 1000\n"
   ]
  },
  {
   "cell_type": "code",
   "execution_count": 207,
   "metadata": {},
   "outputs": [],
   "source": [
    "# Créer un DataFrame pour les allocations initiales\n",
    "allocation_df = pd.DataFrame(index=data_na.index, columns=[f'{col}_alloc' for col in data_na.columns[1:]])\n",
    "\n",
    "# Initialiser les allocations du portefeuille pour chaque actif\n",
    "initial_prices = data_na.iloc[0, 1:]  # Prix initiaux des actifs\n",
    "allocation_df.iloc[0] = [portfolio_value * alloc / price for alloc, price in zip(initial_allocation, initial_prices)]\n"
   ]
  },
  {
   "cell_type": "code",
   "execution_count": 208,
   "metadata": {},
   "outputs": [],
   "source": [
    "def rebalance_portfolio(row, prev_alloc, prices, initial_allocation):\n",
    "    total_value = (prev_alloc * prices).sum()  # Calcul de la valeur totale du portefeuille\n",
    "    new_alloc = [(total_value * alloc) / price for alloc, price in zip(initial_allocation, prices)]\n",
    "    return pd.Series(new_alloc)\n"
   ]
  },
  {
   "cell_type": "code",
   "execution_count": 210,
   "metadata": {},
   "outputs": [],
   "source": [
    "# DataFrame pour stocker les valeurs du portefeuille\n",
    "portfolio_df = pd.DataFrame(index=data_na.index, columns=['Date', 'portfolio_value'])\n",
    "portfolio_df['Date'] = data_na['Date']"
   ]
  },
  {
   "cell_type": "code",
   "execution_count": 211,
   "metadata": {},
   "outputs": [],
   "source": [
    "# Parcourir chaque année et réallouer le portefeuille au 1er janvier de chaque année\n",
    "for i in range(1, len(data_na)):\n",
    "    current_year = pd.to_datetime(data_na.loc[i, 'Date']).year\n",
    "    previous_year = pd.to_datetime(data_na.loc[i-1, 'Date']).year\n",
    "    \n",
    "    if current_year != previous_year:  # Réallocation si on change d'année\n",
    "        previous_alloc = allocation_df.iloc[i-1].values.astype(float)\n",
    "        current_prices = data_na.iloc[i, 1:].values.astype(float)\n",
    "        \n",
    "        # Réallocation basée sur les prix actuels et les allocations initiales\n",
    "        allocation_df.iloc[i] = rebalance_portfolio(data_na.iloc[i],previous_alloc, current_prices, initial_allocation)\n",
    "    else:\n",
    "        allocation_df.iloc[i] = allocation_df.iloc[i-1]  # Conserver la même allocation\n",
    "    \n",
    "    # Utilisation de loc pour éviter les avertissements\n",
    "    portfolio_df.loc[i, 'portfolio_value'] = (allocation_df.iloc[i] * data_na.iloc[i, 1:].values).sum()\n"
   ]
  },
  {
   "cell_type": "code",
   "execution_count": 189,
   "metadata": {},
   "outputs": [],
   "source": [
    "# Calculer les poids du portefeuille (allocation en pourcentage du portefeuille total)\n",
    "weights_df = pd.DataFrame(index=allocation_df.index, columns=[f'{col}_weight' for col in allocation_df.columns[0:]])\n",
    "\n",
    "for i in range(len(data_na)):\n",
    "    total_value = portfolio_df['portfolio_value'].iloc[i]\n",
    "    # Convertir allocation en tableau numpy pour le calcul des poids\n",
    "    current_alloc = allocation_df.iloc[i].values.astype(float)\n",
    "    weights_df.iloc[i] = (current_alloc * data_na.iloc[i, 1:].values) / total_value"
   ]
  },
  {
   "cell_type": "code",
   "execution_count": 219,
   "metadata": {},
   "outputs": [],
   "source": [
    "# Initialisation du DataFrame des poids\n",
    "weights_df = pd.DataFrame(index=data_na.index, columns=data_na.columns[1:])\n",
    "\n",
    "# Poids fixes pour 2011\n",
    "weights_2011 = [0.25] * len(data_na.columns[1:])  # 0.25 pour chaque actif\n",
    "\n",
    "# Assignation des poids pour 2011\n",
    "for i in range(len(data_na)):\n",
    "    current_year = pd.to_datetime(data_na.loc[i, 'Date']).year\n",
    "    \n",
    "    if current_year == 2011:\n",
    "        weights_df.loc[i] = weights_2011  # Assigner 0.25 pour 2011\n",
    "    elif current_year > 2011:\n",
    "        # Si c'est la première occurrence de l'année\n",
    "        if i == 0 or pd.to_datetime(data_na.loc[i - 1, 'Date']).year != current_year:\n",
    "            # Récupérer les prix de la première ligne de l'année\n",
    "            first_row_prices = data_na.iloc[i, 1:].values.astype(float)\n",
    "            # Calculer les poids basés sur la première ligne de l'année\n",
    "            weights_df.loc[i] = fixed_weights = first_row_prices / first_row_prices.sum()\n",
    "        else:\n",
    "            # Pour les autres jours de la même année, conserver les mêmes poids\n",
    "            weights_df.loc[i] = weights_df.loc[i - 1]\n",
    "\n"
   ]
  },
  {
   "cell_type": "code",
   "execution_count": 223,
   "metadata": {},
   "outputs": [],
   "source": [
    "# Supprimer la dernière ligne du DataFrame des poids\n",
    "weights_df = weights_df.drop(weights_df.index[-1]).reset_index(drop=True)\n"
   ]
  },
  {
   "cell_type": "code",
   "execution_count": 195,
   "metadata": {},
   "outputs": [],
   "source": [
    "# Calculer les rendements quotidiens\n",
    "returns_df = data_na.iloc[:, 1:].pct_change().fillna(0)\n",
    "returns_df['Date'] = data_na['Date']\n",
    "returns_df = returns_df[['Date'] + list(returns_df.columns[:-1])]\n",
    "\n"
   ]
  },
  {
   "cell_type": "code",
   "execution_count": null,
   "metadata": {},
   "outputs": [],
   "source": [
    "returns_df = returns_df.drop(index=returns_df.index[0]).reset_index(drop=True)"
   ]
  },
  {
   "cell_type": "code",
   "execution_count": 236,
   "metadata": {},
   "outputs": [],
   "source": [
    "returns_df = returns_df.drop(columns=['Date'])\n"
   ]
  },
  {
   "cell_type": "code",
   "execution_count": 238,
   "metadata": {},
   "outputs": [
    {
     "data": {
      "text/html": [
       "<div>\n",
       "<style scoped>\n",
       "    .dataframe tbody tr th:only-of-type {\n",
       "        vertical-align: middle;\n",
       "    }\n",
       "\n",
       "    .dataframe tbody tr th {\n",
       "        vertical-align: top;\n",
       "    }\n",
       "\n",
       "    .dataframe thead th {\n",
       "        text-align: right;\n",
       "    }\n",
       "</style>\n",
       "<table border=\"1\" class=\"dataframe\">\n",
       "  <thead>\n",
       "    <tr style=\"text-align: right;\">\n",
       "      <th>Ticker</th>\n",
       "      <th>AGG</th>\n",
       "      <th>DBC</th>\n",
       "      <th>VTI</th>\n",
       "      <th>^VIX</th>\n",
       "    </tr>\n",
       "  </thead>\n",
       "  <tbody>\n",
       "    <tr>\n",
       "      <th>0</th>\n",
       "      <td>0.000285</td>\n",
       "      <td>-0.013372</td>\n",
       "      <td>-0.001982</td>\n",
       "      <td>-0.013061</td>\n",
       "    </tr>\n",
       "    <tr>\n",
       "      <th>1</th>\n",
       "      <td>-0.004827</td>\n",
       "      <td>0.010623</td>\n",
       "      <td>0.005499</td>\n",
       "      <td>-0.020713</td>\n",
       "    </tr>\n",
       "    <tr>\n",
       "      <th>2</th>\n",
       "      <td>0.000190</td>\n",
       "      <td>-0.013411</td>\n",
       "      <td>-0.002278</td>\n",
       "      <td>0.022327</td>\n",
       "    </tr>\n",
       "    <tr>\n",
       "      <th>3</th>\n",
       "      <td>0.003233</td>\n",
       "      <td>-0.003674</td>\n",
       "      <td>-0.002284</td>\n",
       "      <td>-0.014943</td>\n",
       "    </tr>\n",
       "    <tr>\n",
       "      <th>4</th>\n",
       "      <td>0.002654</td>\n",
       "      <td>0.011799</td>\n",
       "      <td>0.000763</td>\n",
       "      <td>0.023337</td>\n",
       "    </tr>\n",
       "    <tr>\n",
       "      <th>...</th>\n",
       "      <td>...</td>\n",
       "      <td>...</td>\n",
       "      <td>...</td>\n",
       "      <td>...</td>\n",
       "    </tr>\n",
       "    <tr>\n",
       "      <th>2340</th>\n",
       "      <td>0.002390</td>\n",
       "      <td>-0.002760</td>\n",
       "      <td>0.000143</td>\n",
       "      <td>-0.014292</td>\n",
       "    </tr>\n",
       "    <tr>\n",
       "      <th>2341</th>\n",
       "      <td>-0.000511</td>\n",
       "      <td>-0.012915</td>\n",
       "      <td>0.014905</td>\n",
       "      <td>-0.131706</td>\n",
       "    </tr>\n",
       "    <tr>\n",
       "      <th>2342</th>\n",
       "      <td>-0.004601</td>\n",
       "      <td>-0.018692</td>\n",
       "      <td>0.017722</td>\n",
       "      <td>-0.073476</td>\n",
       "    </tr>\n",
       "    <tr>\n",
       "      <th>2343</th>\n",
       "      <td>0.003938</td>\n",
       "      <td>0.000952</td>\n",
       "      <td>-0.003122</td>\n",
       "      <td>0.008411</td>\n",
       "    </tr>\n",
       "    <tr>\n",
       "      <th>2344</th>\n",
       "      <td>0.000682</td>\n",
       "      <td>0.018078</td>\n",
       "      <td>0.028325</td>\n",
       "      <td>-0.069705</td>\n",
       "    </tr>\n",
       "  </tbody>\n",
       "</table>\n",
       "<p>2345 rows × 4 columns</p>\n",
       "</div>"
      ],
      "text/plain": [
       "Ticker       AGG       DBC       VTI      ^VIX\n",
       "0       0.000285 -0.013372 -0.001982 -0.013061\n",
       "1      -0.004827  0.010623  0.005499 -0.020713\n",
       "2       0.000190 -0.013411 -0.002278  0.022327\n",
       "3       0.003233 -0.003674 -0.002284 -0.014943\n",
       "4       0.002654  0.011799  0.000763  0.023337\n",
       "...          ...       ...       ...       ...\n",
       "2340    0.002390 -0.002760  0.000143 -0.014292\n",
       "2341   -0.000511 -0.012915  0.014905 -0.131706\n",
       "2342   -0.004601 -0.018692  0.017722 -0.073476\n",
       "2343    0.003938  0.000952 -0.003122  0.008411\n",
       "2344    0.000682  0.018078  0.028325 -0.069705\n",
       "\n",
       "[2345 rows x 4 columns]"
      ]
     },
     "execution_count": 238,
     "metadata": {},
     "output_type": "execute_result"
    }
   ],
   "source": [
    "returns_df"
   ]
  },
  {
   "cell_type": "code",
   "execution_count": 255,
   "metadata": {},
   "outputs": [
    {
     "data": {
      "text/plain": [
       "Ticker\n",
       "AGG     0.441186\n",
       "DBC     0.141729\n",
       "VTI     0.289137\n",
       "^VIX    0.127948\n",
       "Name: 252, dtype: object"
      ]
     },
     "execution_count": 255,
     "metadata": {},
     "output_type": "execute_result"
    }
   ],
   "source": [
    "weights_df.iloc[252]"
   ]
  },
  {
   "cell_type": "code",
   "execution_count": 258,
   "metadata": {},
   "outputs": [
    {
     "data": {
      "text/html": [
       "<div>\n",
       "<style scoped>\n",
       "    .dataframe tbody tr th:only-of-type {\n",
       "        vertical-align: middle;\n",
       "    }\n",
       "\n",
       "    .dataframe tbody tr th {\n",
       "        vertical-align: top;\n",
       "    }\n",
       "\n",
       "    .dataframe thead th {\n",
       "        text-align: right;\n",
       "    }\n",
       "</style>\n",
       "<table border=\"1\" class=\"dataframe\">\n",
       "  <thead>\n",
       "    <tr style=\"text-align: right;\">\n",
       "      <th>Ticker</th>\n",
       "      <th>AGG</th>\n",
       "      <th>DBC</th>\n",
       "      <th>VTI</th>\n",
       "      <th>^VIX</th>\n",
       "    </tr>\n",
       "  </thead>\n",
       "  <tbody>\n",
       "    <tr>\n",
       "      <th>0</th>\n",
       "      <td>0.000285</td>\n",
       "      <td>-0.013372</td>\n",
       "      <td>-0.001982</td>\n",
       "      <td>-0.013061</td>\n",
       "    </tr>\n",
       "    <tr>\n",
       "      <th>1</th>\n",
       "      <td>-0.004827</td>\n",
       "      <td>0.010623</td>\n",
       "      <td>0.005499</td>\n",
       "      <td>-0.020713</td>\n",
       "    </tr>\n",
       "    <tr>\n",
       "      <th>2</th>\n",
       "      <td>0.000190</td>\n",
       "      <td>-0.013411</td>\n",
       "      <td>-0.002278</td>\n",
       "      <td>0.022327</td>\n",
       "    </tr>\n",
       "    <tr>\n",
       "      <th>3</th>\n",
       "      <td>0.003233</td>\n",
       "      <td>-0.003674</td>\n",
       "      <td>-0.002284</td>\n",
       "      <td>-0.014943</td>\n",
       "    </tr>\n",
       "    <tr>\n",
       "      <th>4</th>\n",
       "      <td>0.002654</td>\n",
       "      <td>0.011799</td>\n",
       "      <td>0.000763</td>\n",
       "      <td>0.023337</td>\n",
       "    </tr>\n",
       "    <tr>\n",
       "      <th>...</th>\n",
       "      <td>...</td>\n",
       "      <td>...</td>\n",
       "      <td>...</td>\n",
       "      <td>...</td>\n",
       "    </tr>\n",
       "    <tr>\n",
       "      <th>2340</th>\n",
       "      <td>0.002390</td>\n",
       "      <td>-0.002760</td>\n",
       "      <td>0.000143</td>\n",
       "      <td>-0.014292</td>\n",
       "    </tr>\n",
       "    <tr>\n",
       "      <th>2341</th>\n",
       "      <td>-0.000511</td>\n",
       "      <td>-0.012915</td>\n",
       "      <td>0.014905</td>\n",
       "      <td>-0.131706</td>\n",
       "    </tr>\n",
       "    <tr>\n",
       "      <th>2342</th>\n",
       "      <td>-0.004601</td>\n",
       "      <td>-0.018692</td>\n",
       "      <td>0.017722</td>\n",
       "      <td>-0.073476</td>\n",
       "    </tr>\n",
       "    <tr>\n",
       "      <th>2343</th>\n",
       "      <td>0.003938</td>\n",
       "      <td>0.000952</td>\n",
       "      <td>-0.003122</td>\n",
       "      <td>0.008411</td>\n",
       "    </tr>\n",
       "    <tr>\n",
       "      <th>2344</th>\n",
       "      <td>0.000682</td>\n",
       "      <td>0.018078</td>\n",
       "      <td>0.028325</td>\n",
       "      <td>-0.069705</td>\n",
       "    </tr>\n",
       "  </tbody>\n",
       "</table>\n",
       "<p>2345 rows × 4 columns</p>\n",
       "</div>"
      ],
      "text/plain": [
       "Ticker       AGG       DBC       VTI      ^VIX\n",
       "0       0.000285 -0.013372 -0.001982 -0.013061\n",
       "1      -0.004827  0.010623  0.005499 -0.020713\n",
       "2       0.000190 -0.013411 -0.002278  0.022327\n",
       "3       0.003233 -0.003674 -0.002284 -0.014943\n",
       "4       0.002654  0.011799  0.000763  0.023337\n",
       "...          ...       ...       ...       ...\n",
       "2340    0.002390 -0.002760  0.000143 -0.014292\n",
       "2341   -0.000511 -0.012915  0.014905 -0.131706\n",
       "2342   -0.004601 -0.018692  0.017722 -0.073476\n",
       "2343    0.003938  0.000952 -0.003122  0.008411\n",
       "2344    0.000682  0.018078  0.028325 -0.069705\n",
       "\n",
       "[2345 rows x 4 columns]"
      ]
     },
     "execution_count": 258,
     "metadata": {},
     "output_type": "execute_result"
    }
   ],
   "source": [
    "returns_df"
   ]
  },
  {
   "cell_type": "code",
   "execution_count": 260,
   "metadata": {},
   "outputs": [
    {
     "data": {
      "text/html": [
       "<div>\n",
       "<style scoped>\n",
       "    .dataframe tbody tr th:only-of-type {\n",
       "        vertical-align: middle;\n",
       "    }\n",
       "\n",
       "    .dataframe tbody tr th {\n",
       "        vertical-align: top;\n",
       "    }\n",
       "\n",
       "    .dataframe thead th {\n",
       "        text-align: right;\n",
       "    }\n",
       "</style>\n",
       "<table border=\"1\" class=\"dataframe\">\n",
       "  <thead>\n",
       "    <tr style=\"text-align: right;\">\n",
       "      <th>Ticker</th>\n",
       "      <th>AGG</th>\n",
       "      <th>DBC</th>\n",
       "      <th>VTI</th>\n",
       "      <th>^VIX</th>\n",
       "    </tr>\n",
       "  </thead>\n",
       "  <tbody>\n",
       "    <tr>\n",
       "      <th>0</th>\n",
       "      <td>0.25</td>\n",
       "      <td>0.25</td>\n",
       "      <td>0.25</td>\n",
       "      <td>0.25</td>\n",
       "    </tr>\n",
       "    <tr>\n",
       "      <th>1</th>\n",
       "      <td>0.25</td>\n",
       "      <td>0.25</td>\n",
       "      <td>0.25</td>\n",
       "      <td>0.25</td>\n",
       "    </tr>\n",
       "    <tr>\n",
       "      <th>2</th>\n",
       "      <td>0.25</td>\n",
       "      <td>0.25</td>\n",
       "      <td>0.25</td>\n",
       "      <td>0.25</td>\n",
       "    </tr>\n",
       "    <tr>\n",
       "      <th>3</th>\n",
       "      <td>0.25</td>\n",
       "      <td>0.25</td>\n",
       "      <td>0.25</td>\n",
       "      <td>0.25</td>\n",
       "    </tr>\n",
       "    <tr>\n",
       "      <th>4</th>\n",
       "      <td>0.25</td>\n",
       "      <td>0.25</td>\n",
       "      <td>0.25</td>\n",
       "      <td>0.25</td>\n",
       "    </tr>\n",
       "    <tr>\n",
       "      <th>...</th>\n",
       "      <td>...</td>\n",
       "      <td>...</td>\n",
       "      <td>...</td>\n",
       "      <td>...</td>\n",
       "    </tr>\n",
       "    <tr>\n",
       "      <th>2340</th>\n",
       "      <td>0.354704</td>\n",
       "      <td>0.053944</td>\n",
       "      <td>0.546893</td>\n",
       "      <td>0.044458</td>\n",
       "    </tr>\n",
       "    <tr>\n",
       "      <th>2341</th>\n",
       "      <td>0.354704</td>\n",
       "      <td>0.053944</td>\n",
       "      <td>0.546893</td>\n",
       "      <td>0.044458</td>\n",
       "    </tr>\n",
       "    <tr>\n",
       "      <th>2342</th>\n",
       "      <td>0.354704</td>\n",
       "      <td>0.053944</td>\n",
       "      <td>0.546893</td>\n",
       "      <td>0.044458</td>\n",
       "    </tr>\n",
       "    <tr>\n",
       "      <th>2343</th>\n",
       "      <td>0.354704</td>\n",
       "      <td>0.053944</td>\n",
       "      <td>0.546893</td>\n",
       "      <td>0.044458</td>\n",
       "    </tr>\n",
       "    <tr>\n",
       "      <th>2344</th>\n",
       "      <td>0.354704</td>\n",
       "      <td>0.053944</td>\n",
       "      <td>0.546893</td>\n",
       "      <td>0.044458</td>\n",
       "    </tr>\n",
       "  </tbody>\n",
       "</table>\n",
       "<p>2345 rows × 4 columns</p>\n",
       "</div>"
      ],
      "text/plain": [
       "Ticker       AGG       DBC       VTI      ^VIX\n",
       "0           0.25      0.25      0.25      0.25\n",
       "1           0.25      0.25      0.25      0.25\n",
       "2           0.25      0.25      0.25      0.25\n",
       "3           0.25      0.25      0.25      0.25\n",
       "4           0.25      0.25      0.25      0.25\n",
       "...          ...       ...       ...       ...\n",
       "2340    0.354704  0.053944  0.546893  0.044458\n",
       "2341    0.354704  0.053944  0.546893  0.044458\n",
       "2342    0.354704  0.053944  0.546893  0.044458\n",
       "2343    0.354704  0.053944  0.546893  0.044458\n",
       "2344    0.354704  0.053944  0.546893  0.044458\n",
       "\n",
       "[2345 rows x 4 columns]"
      ]
     },
     "execution_count": 260,
     "metadata": {},
     "output_type": "execute_result"
    }
   ],
   "source": [
    "weights_df \n"
   ]
  },
  {
   "cell_type": "code",
   "execution_count": 244,
   "metadata": {},
   "outputs": [],
   "source": [
    "# Calculer le produit terme à terme\n",
    "weighted_returns = returns_df.values * weights_df.values\n",
    "\n",
    "# Somme sur les lignes pour obtenir le rendement du portefeuille\n",
    "portfolio_returns = weighted_returns.sum(axis=1)"
   ]
  },
  {
   "cell_type": "code",
   "execution_count": 257,
   "metadata": {},
   "outputs": [
    {
     "data": {
      "text/plain": [
       "array([-0.007032314008862395, -0.0023548570675245573,\n",
       "       0.0017068397352348608, ..., 0.003785344700315989,\n",
       "       0.00011441350426329898, 0.01360897261630044], dtype=object)"
      ]
     },
     "execution_count": 257,
     "metadata": {},
     "output_type": "execute_result"
    }
   ],
   "source": [
    "portfolio_returns"
   ]
  },
  {
   "cell_type": "code",
   "execution_count": 268,
   "metadata": {},
   "outputs": [
    {
     "name": "stdout",
     "output_type": "stream",
     "text": [
      "Espérance des rendements : 0.1390\n",
      "Standard déviation : 0.1238\n",
      "Sharpe ratio : 1.1229\n"
     ]
    }
   ],
   "source": [
    "# Calcul de l'espérance des rendements (moyenne)\n",
    "expected_return = portfolio_returns.mean()\n",
    "expected_return = (expected_return+1)**252-1\n",
    "\n",
    "# Calcul de la standard déviation\n",
    "std_dev = portfolio_returns.std()\n",
    "std_dev = std_dev*math.sqrt(252)\n",
    "risk_free_rate = 0.0\n",
    "\n",
    "# Calcul du Sharpe ratio\n",
    "sharpe_ratio = (expected_return - risk_free_rate) / std_dev\n",
    "\n",
    "# Affichage des résultats\n",
    "print(f\"Espérance des rendements : {expected_return:.4f}\")\n",
    "print(f\"Standard déviation : {std_dev:.4f}\")\n",
    "print(f\"Sharpe ratio : {sharpe_ratio:.4f}\")\n"
   ]
  },
  {
   "cell_type": "code",
   "execution_count": 263,
   "metadata": {},
   "outputs": [
    {
     "data": {
      "text/plain": [
       "array([0., 0., 0., ..., 0., 0., 0.])"
      ]
     },
     "execution_count": 263,
     "metadata": {},
     "output_type": "execute_result"
    }
   ],
   "source": [
    "C = 0.01  \n",
    "\n",
    "# Initialisation du vecteur des coûts de transaction\n",
    "transaction_costs = np.zeros(len(weights_df))\n",
    "\n",
    "# Calcul des coûts de transaction\n",
    "for t in range(2, len(weights_df)):\n",
    "    # Calcul des différences de poids\n",
    "    diff_weights = weights_df.iloc[t - 1].values - weights_df.iloc[t - 2].values\n",
    "    \n",
    "    # Somme des valeurs absolues des différences\n",
    "    sum_abs_diff = np.sum(np.abs(diff_weights))\n",
    "    \n",
    "    # Coût de transaction pour le temps t\n",
    "    transaction_costs[t] = C * sum_abs_diff\n",
    "\n",
    "transaction_costs"
   ]
  },
  {
   "cell_type": "code",
   "execution_count": null,
   "metadata": {},
   "outputs": [],
   "source": [
    "# Convertir le vecteur en DataFrame ou Series si nécessaire\n",
    "transaction_costs_df = pd.Series(transaction_costs, index=data_na['Date'].dt.date)\n",
    "\n",
    "# Affichage des coûts de transaction\n",
    "print(\"Vecteur des coûts de transaction :\")\n",
    "print(transaction_costs_df.head(10))  # Affiche les 10 premières valeurs\n"
   ]
  }
 ],
 "metadata": {
  "kernelspec": {
   "display_name": "base",
   "language": "python",
   "name": "python3"
  },
  "language_info": {
   "codemirror_mode": {
    "name": "ipython",
    "version": 3
   },
   "file_extension": ".py",
   "mimetype": "text/x-python",
   "name": "python",
   "nbconvert_exporter": "python",
   "pygments_lexer": "ipython3",
   "version": "3.12.6"
  }
 },
 "nbformat": 4,
 "nbformat_minor": 2
}
