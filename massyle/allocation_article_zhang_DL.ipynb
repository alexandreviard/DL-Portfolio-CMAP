{
 "cells": [
  {
   "cell_type": "code",
   "execution_count": 308,
   "metadata": {},
   "outputs": [],
   "source": [
    "import numpy as np\n",
    "import yfinance as yf\n",
    "import pandas as pd\n",
    "import matplotlib.pyplot as plt\n",
    "import math"
   ]
  },
  {
   "cell_type": "code",
   "execution_count": 416,
   "metadata": {},
   "outputs": [
    {
     "name": "stderr",
     "output_type": "stream",
     "text": [
      "[*********************100%***********************]  4 of 4 completed\n"
     ]
    }
   ],
   "source": [
    "tickers = ['VTI', 'AGG', 'DBC', '^VIX']\n",
    "data = yf.download(tickers, start=\"2011-01-01\", end=\"2020-04-30\", interval=\"1d\")['Adj Close']\n",
    "data_na = data.dropna(axis = 0)\n",
    "data_na.dropna(axis=0, inplace=True)\n",
    "data_na.reset_index(inplace=True)\n",
    "data_na['Date'] = data_na['Date'].dt.date\n"
   ]
  },
  {
   "cell_type": "code",
   "execution_count": 417,
   "metadata": {},
   "outputs": [],
   "source": [
    "data_na['Date'] = pd.to_datetime(data_na['Date'])\n"
   ]
  },
  {
   "cell_type": "code",
   "execution_count": 418,
   "metadata": {},
   "outputs": [],
   "source": [
    "# Allocation initiale\n",
    "initial_allocation = [0.50, 0.10, 0.20, 0.20]  # Allocations initiales pour VTI, AGG, DBC, VIX\n",
    "portfolio_value = 1\n"
   ]
  },
  {
   "cell_type": "code",
   "execution_count": 419,
   "metadata": {},
   "outputs": [],
   "source": [
    "# Créer un DataFrame pour les allocations initiales\n",
    "allocation_df = pd.DataFrame(index=data_na.index, columns=[f'{col}_alloc' for col in data_na.columns[1:]])\n",
    "\n",
    "# Initialiser les allocations du portefeuille pour chaque actif\n",
    "initial_prices = data_na.iloc[0, 1:]  # Prix initiaux des actifs\n",
    "allocation_df.iloc[0] = [portfolio_value * alloc / price for alloc, price in zip(initial_allocation, initial_prices)]\n"
   ]
  },
  {
   "cell_type": "code",
   "execution_count": 399,
   "metadata": {},
   "outputs": [],
   "source": [
    "def rebalance_portfolio(row, prev_alloc, prices, initial_allocation):\n",
    "    total_value = (prev_alloc * prices).sum()  # Calcul de la valeur totale du portefeuille\n",
    "    new_alloc = [(total_value * alloc) / price for alloc, price in zip(initial_allocation, prices)]\n",
    "    return pd.Series(new_alloc)\n"
   ]
  },
  {
   "cell_type": "code",
   "execution_count": 420,
   "metadata": {},
   "outputs": [],
   "source": [
    "# DataFrame pour stocker les valeurs du portefeuille\n",
    "portfolio_df = pd.DataFrame(index=data_na.index, columns=['Date', 'portfolio_value'])\n",
    "portfolio_df['Date'] = data_na['Date']"
   ]
  },
  {
   "cell_type": "code",
   "execution_count": 421,
   "metadata": {},
   "outputs": [],
   "source": [
    "# Parcourir chaque année et réallouer le portefeuille au 1er janvier de chaque année\n",
    "for i in range(1, len(data_na)):\n",
    "    current_year = pd.to_datetime(data_na.loc[i, 'Date']).year\n",
    "    previous_year = pd.to_datetime(data_na.loc[i-1, 'Date']).year\n",
    "    \n",
    "    if current_year != previous_year:  # Réallocation si on change d'année\n",
    "        previous_alloc = allocation_df.iloc[i-1].values.astype(float)\n",
    "        current_prices = data_na.iloc[i, 1:].values.astype(float)\n",
    "        \n",
    "        # Réallocation basée sur les prix actuels et les allocations initiales\n",
    "        allocation_df.iloc[i] = rebalance_portfolio(data_na.iloc[i],previous_alloc, current_prices, initial_allocation)\n",
    "    else:\n",
    "        allocation_df.iloc[i] = allocation_df.iloc[i-1]  # Conserver la même allocation\n",
    "    \n",
    "    # Utilisation de loc pour éviter les avertissements\n",
    "    portfolio_df.loc[i, 'portfolio_value'] = (allocation_df.iloc[i] * data_na.iloc[i, 1:].values).sum()\n"
   ]
  },
  {
   "cell_type": "code",
   "execution_count": 423,
   "metadata": {},
   "outputs": [],
   "source": [
    "# Initialisation du DataFrame des poids\n",
    "weights_df = pd.DataFrame(index=data_na.index, columns=data_na.columns[1:])\n",
    "\n",
    "# Poids fixes pour 2011\n",
    "weights_2011 = initial_allocation  \n",
    "\n",
    "# Assignation des poids pour 2011\n",
    "for i in range(len(data_na)):\n",
    "    current_year = pd.to_datetime(data_na.loc[i, 'Date']).year\n",
    "    \n",
    "    if current_year == 2011:\n",
    "        weights_df.loc[i] = weights_2011  \n",
    "    elif current_year > 2011:\n",
    "        # Si c'est la première occurrence de l'année\n",
    "        if i == 0 or pd.to_datetime(data_na.loc[i - 1, 'Date']).year != current_year:\n",
    "            # Récupérer les prix de la première ligne de l'année\n",
    "            first_row_prices = data_na.iloc[i, 1:].values.astype(float)\n",
    "            # Calculer les poids basés sur la première ligne de l'année\n",
    "            weights_df.loc[i] = fixed_weights = first_row_prices / first_row_prices.sum()\n",
    "        else:\n",
    "            # Pour les autres jours de la même année, conserver les mêmes poids\n",
    "            weights_df.loc[i] = weights_df.loc[i - 1]\n",
    "\n"
   ]
  },
  {
   "cell_type": "code",
   "execution_count": 424,
   "metadata": {},
   "outputs": [],
   "source": [
    "# Supprimer la dernière ligne du DataFrame des poids\n",
    "weights_df = weights_df.drop(weights_df.index[-1]).reset_index(drop=True)\n"
   ]
  },
  {
   "cell_type": "code",
   "execution_count": 425,
   "metadata": {},
   "outputs": [],
   "source": [
    "# Calculer les rendements quotidiens\n",
    "returns_df = data_na.iloc[:, 1:].pct_change().fillna(0)\n",
    "returns_df['Date'] = data_na['Date']\n",
    "returns_df = returns_df[['Date'] + list(returns_df.columns[:-1])]\n",
    "\n"
   ]
  },
  {
   "cell_type": "code",
   "execution_count": 426,
   "metadata": {},
   "outputs": [],
   "source": [
    "returns_df = returns_df.drop(index=returns_df.index[0]).reset_index(drop=True)"
   ]
  },
  {
   "cell_type": "code",
   "execution_count": 427,
   "metadata": {},
   "outputs": [],
   "source": [
    "returns_df = returns_df.drop(columns=['Date'])"
   ]
  },
  {
   "cell_type": "code",
   "execution_count": 428,
   "metadata": {},
   "outputs": [],
   "source": [
    "# Calculer le produit terme à terme\n",
    "weighted_returns = returns_df.values * weights_df.values\n",
    "\n",
    "# Somme sur les lignes pour obtenir le rendement du portefeuille\n",
    "portfolio_returns = weighted_returns.sum(axis=1)"
   ]
  },
  {
   "cell_type": "code",
   "execution_count": 429,
   "metadata": {},
   "outputs": [
    {
     "data": {
      "text/plain": [
       "array([-0.004203117019554437, -0.004394377247478809, 0.002763454517601349,\n",
       "       ..., 0.003785344700315989, 0.00011441350426329898,\n",
       "       0.01360897261630044], dtype=object)"
      ]
     },
     "execution_count": 429,
     "metadata": {},
     "output_type": "execute_result"
    }
   ],
   "source": [
    "portfolio_returns"
   ]
  },
  {
   "cell_type": "code",
   "execution_count": 430,
   "metadata": {},
   "outputs": [
    {
     "name": "stdout",
     "output_type": "stream",
     "text": [
      "Espérance des rendements : 0.1335\n",
      "Standard déviation : 0.1134\n",
      "Sharpe ratio : 1.1771\n"
     ]
    }
   ],
   "source": [
    "# Calcul de l'espérance des rendements (moyenne)\n",
    "expected_return = portfolio_returns.mean()\n",
    "expected_return = (expected_return+1)**252-1\n",
    "\n",
    "# Calcul de la standard déviation\n",
    "std_dev = portfolio_returns.std()\n",
    "std_dev = std_dev * math.sqrt(252)\n",
    "risk_free_rate = 0.0\n",
    "\n",
    "# Calcul du Sharpe ratio\n",
    "sharpe_ratio = (expected_return - risk_free_rate) / std_dev\n",
    "\n",
    "# Affichage des résultats\n",
    "print(f\"Espérance des rendements : {expected_return:.4f}\")\n",
    "print(f\"Standard déviation : {std_dev:.4f}\")\n",
    "print(f\"Sharpe ratio : {sharpe_ratio:.4f}\")\n"
   ]
  },
  {
   "cell_type": "code",
   "execution_count": 327,
   "metadata": {},
   "outputs": [],
   "source": [
    "# Initialisation des listes pour stocker les premières données de chaque année\n",
    "weights_first_list = []\n",
    "prices_first_list = []\n",
    "returns_first_list = []\n",
    "allocation_first_list = []\n",
    "\n",
    "# Boucle sur les années de 2011 à 2020\n",
    "for year in range(2011, 2021):\n",
    "    # Filtrer les données pour l'année en question\n",
    "    mask = pd.to_datetime(data_na['Date']).dt.year == year\n",
    "    \n",
    "    # Stocker la première ligne de chaque année dans les listes\n",
    "    weights_first_list.append(weights_df.loc[mask].iloc[0])\n",
    "    prices_first_list.append(data_na.loc[mask].iloc[0])\n",
    "    returns_first_list.append(returns_df.loc[mask].iloc[0])\n",
    "    allocation_first_list.append(allocation_df.loc[mask].iloc[0])\n",
    "\n",
    "# Convertir les listes en DataFrames\n",
    "weights_first_df = pd.DataFrame(weights_first_list).reset_index(drop=True)\n",
    "prices_first_df = pd.DataFrame(prices_first_list).reset_index(drop=True)\n",
    "returns_first_df = pd.DataFrame(returns_first_list).reset_index(drop=True)\n",
    "allocation_first_df = pd.DataFrame(allocation_first_list).reset_index(drop=True)\n"
   ]
  },
  {
   "cell_type": "markdown",
   "metadata": {},
   "source": [
    "## Prise en compte du cout de transaction"
   ]
  },
  {
   "cell_type": "markdown",
   "metadata": {},
   "source": []
  },
  {
   "cell_type": "code",
   "execution_count": 431,
   "metadata": {},
   "outputs": [],
   "source": [
    "C = 0.01  \n",
    "\n",
    "# Initialisation du vecteur des coûts de transaction\n",
    "transaction_costs = np.zeros(len(weights_df))\n",
    "\n",
    "# Calcul des coûts de transaction\n",
    "for t in range(2, len(weights_df)):\n",
    "    # Calcul des différences de poids\n",
    "    diff_weights = weights_df.iloc[t - 1].values - weights_df.iloc[t - 2].values\n",
    "    \n",
    "    # Somme des valeurs absolues des différences\n",
    "    sum_abs_diff = np.sum(np.abs(diff_weights))\n",
    "    \n",
    "    # Coût de transaction pour le temps t\n",
    "    transaction_costs[t] = C * sum_abs_diff\n",
    "\n"
   ]
  },
  {
   "cell_type": "code",
   "execution_count": 436,
   "metadata": {},
   "outputs": [],
   "source": [
    "portfolio_with_transac_cost = portfolio_returns +transaction_costs"
   ]
  },
  {
   "cell_type": "code",
   "execution_count": 437,
   "metadata": {},
   "outputs": [
    {
     "name": "stdout",
     "output_type": "stream",
     "text": [
      "Espérance des rendements : 0.1347\n",
      "Standard déviation : 0.1134\n",
      "Sharpe ratio : 1.1885\n"
     ]
    }
   ],
   "source": [
    "# Calcul de l'espérance des rendements (moyenne)\n",
    "expected_return = portfolio_with_transac_cost.mean()\n",
    "expected_return = (expected_return+1)**252-1\n",
    "\n",
    "# Calcul de la standard déviation\n",
    "std_dev = portfolio_with_transac_cost.std()\n",
    "std_dev = std_dev * math.sqrt(252)\n",
    "risk_free_rate = 0.0\n",
    "\n",
    "# Calcul du Sharpe ratio\n",
    "sharpe_ratio = (expected_return - risk_free_rate) / std_dev\n",
    "\n",
    "# Affichage des résultats\n",
    "print(f\"Espérance des rendements : {expected_return:.4f}\")\n",
    "print(f\"Standard déviation : {std_dev:.4f}\")\n",
    "print(f\"Sharpe ratio : {sharpe_ratio:.4f}\")\n"
   ]
  },
  {
   "cell_type": "markdown",
   "metadata": {},
   "source": [
    "## Prise en compte de la volatilité scaling"
   ]
  },
  {
   "cell_type": "code",
   "execution_count": 442,
   "metadata": {},
   "outputs": [],
   "source": [
    "# Initialisation du DataFrame pour stocker les volatilités ex-ante\n",
    "volatility_df = pd.DataFrame(index=returns_df.index, columns=returns_df.columns)\n",
    "\n",
    "# Boucle sur chaque colonne (actif) pour calculer la volatilité\n",
    "for col in returns_df.columns:\n",
    "    # Calcul de la variance exponentiellement pondérée sur 50 jours\n",
    "    ew_var = returns_df[col].ewm(span=50, adjust=False).var()\n",
    "    \n",
    "    # Calcul de la volatilité ex-ante en prenant la racine carrée de la variance\n",
    "    volatility_df[col] = ew_var.shift(1).apply(lambda x: x**0.5)\n",
    "\n"
   ]
  },
  {
   "cell_type": "code",
   "execution_count": 439,
   "metadata": {},
   "outputs": [
    {
     "data": {
      "text/html": [
       "<div>\n",
       "<style scoped>\n",
       "    .dataframe tbody tr th:only-of-type {\n",
       "        vertical-align: middle;\n",
       "    }\n",
       "\n",
       "    .dataframe tbody tr th {\n",
       "        vertical-align: top;\n",
       "    }\n",
       "\n",
       "    .dataframe thead th {\n",
       "        text-align: right;\n",
       "    }\n",
       "</style>\n",
       "<table border=\"1\" class=\"dataframe\">\n",
       "  <thead>\n",
       "    <tr style=\"text-align: right;\">\n",
       "      <th>Ticker</th>\n",
       "      <th>AGG</th>\n",
       "      <th>DBC</th>\n",
       "      <th>VTI</th>\n",
       "      <th>^VIX</th>\n",
       "    </tr>\n",
       "  </thead>\n",
       "  <tbody>\n",
       "    <tr>\n",
       "      <th>0</th>\n",
       "      <td>NaN</td>\n",
       "      <td>NaN</td>\n",
       "      <td>NaN</td>\n",
       "      <td>NaN</td>\n",
       "    </tr>\n",
       "    <tr>\n",
       "      <th>1</th>\n",
       "      <td>NaN</td>\n",
       "      <td>NaN</td>\n",
       "      <td>NaN</td>\n",
       "      <td>NaN</td>\n",
       "    </tr>\n",
       "    <tr>\n",
       "      <th>2</th>\n",
       "      <td>0.003615</td>\n",
       "      <td>0.016967</td>\n",
       "      <td>0.005289</td>\n",
       "      <td>0.005411</td>\n",
       "    </tr>\n",
       "    <tr>\n",
       "      <th>3</th>\n",
       "      <td>0.002556</td>\n",
       "      <td>0.012003</td>\n",
       "      <td>0.003751</td>\n",
       "      <td>0.018595</td>\n",
       "    </tr>\n",
       "    <tr>\n",
       "      <th>4</th>\n",
       "      <td>0.002476</td>\n",
       "      <td>0.010481</td>\n",
       "      <td>0.003070</td>\n",
       "      <td>0.015225</td>\n",
       "    </tr>\n",
       "    <tr>\n",
       "      <th>...</th>\n",
       "      <td>...</td>\n",
       "      <td>...</td>\n",
       "      <td>...</td>\n",
       "      <td>...</td>\n",
       "    </tr>\n",
       "    <tr>\n",
       "      <th>2340</th>\n",
       "      <td>0.009805</td>\n",
       "      <td>0.020153</td>\n",
       "      <td>0.038064</td>\n",
       "      <td>0.125889</td>\n",
       "    </tr>\n",
       "    <tr>\n",
       "      <th>2341</th>\n",
       "      <td>0.009615</td>\n",
       "      <td>0.019757</td>\n",
       "      <td>0.037311</td>\n",
       "      <td>0.123493</td>\n",
       "    </tr>\n",
       "    <tr>\n",
       "      <th>2342</th>\n",
       "      <td>0.009429</td>\n",
       "      <td>0.019436</td>\n",
       "      <td>0.036679</td>\n",
       "      <td>0.124184</td>\n",
       "    </tr>\n",
       "    <tr>\n",
       "      <th>2343</th>\n",
       "      <td>0.009304</td>\n",
       "      <td>0.019245</td>\n",
       "      <td>0.036098</td>\n",
       "      <td>0.122673</td>\n",
       "    </tr>\n",
       "    <tr>\n",
       "      <th>2344</th>\n",
       "      <td>0.009143</td>\n",
       "      <td>0.018904</td>\n",
       "      <td>0.035396</td>\n",
       "      <td>0.120252</td>\n",
       "    </tr>\n",
       "  </tbody>\n",
       "</table>\n",
       "<p>2345 rows × 4 columns</p>\n",
       "</div>"
      ],
      "text/plain": [
       "Ticker       AGG       DBC       VTI      ^VIX\n",
       "0            NaN       NaN       NaN       NaN\n",
       "1            NaN       NaN       NaN       NaN\n",
       "2       0.003615  0.016967  0.005289  0.005411\n",
       "3       0.002556  0.012003  0.003751  0.018595\n",
       "4       0.002476  0.010481  0.003070  0.015225\n",
       "...          ...       ...       ...       ...\n",
       "2340    0.009805  0.020153  0.038064  0.125889\n",
       "2341    0.009615  0.019757  0.037311  0.123493\n",
       "2342    0.009429  0.019436  0.036679  0.124184\n",
       "2343    0.009304  0.019245  0.036098  0.122673\n",
       "2344    0.009143  0.018904  0.035396  0.120252\n",
       "\n",
       "[2345 rows x 4 columns]"
      ]
     },
     "execution_count": 439,
     "metadata": {},
     "output_type": "execute_result"
    }
   ],
   "source": [
    "volatility_df"
   ]
  },
  {
   "cell_type": "code",
   "execution_count": 450,
   "metadata": {},
   "outputs": [],
   "source": [
    "# Définition du paramètre alpha\n",
    "vol_target = 0.1  \n",
    "\n",
    "vol_scale_df = vol_target / volatility_df\n"
   ]
  },
  {
   "cell_type": "code",
   "execution_count": 451,
   "metadata": {},
   "outputs": [
    {
     "data": {
      "text/html": [
       "<div>\n",
       "<style scoped>\n",
       "    .dataframe tbody tr th:only-of-type {\n",
       "        vertical-align: middle;\n",
       "    }\n",
       "\n",
       "    .dataframe tbody tr th {\n",
       "        vertical-align: top;\n",
       "    }\n",
       "\n",
       "    .dataframe thead th {\n",
       "        text-align: right;\n",
       "    }\n",
       "</style>\n",
       "<table border=\"1\" class=\"dataframe\">\n",
       "  <thead>\n",
       "    <tr style=\"text-align: right;\">\n",
       "      <th>Ticker</th>\n",
       "      <th>AGG</th>\n",
       "      <th>DBC</th>\n",
       "      <th>VTI</th>\n",
       "      <th>^VIX</th>\n",
       "    </tr>\n",
       "  </thead>\n",
       "  <tbody>\n",
       "    <tr>\n",
       "      <th>0</th>\n",
       "      <td>NaN</td>\n",
       "      <td>NaN</td>\n",
       "      <td>NaN</td>\n",
       "      <td>NaN</td>\n",
       "    </tr>\n",
       "    <tr>\n",
       "      <th>1</th>\n",
       "      <td>NaN</td>\n",
       "      <td>NaN</td>\n",
       "      <td>NaN</td>\n",
       "      <td>NaN</td>\n",
       "    </tr>\n",
       "    <tr>\n",
       "      <th>2</th>\n",
       "      <td>27.661773</td>\n",
       "      <td>5.893858</td>\n",
       "      <td>18.906104</td>\n",
       "      <td>18.480298</td>\n",
       "    </tr>\n",
       "    <tr>\n",
       "      <th>3</th>\n",
       "      <td>39.126708</td>\n",
       "      <td>8.331284</td>\n",
       "      <td>26.661787</td>\n",
       "      <td>5.377897</td>\n",
       "    </tr>\n",
       "    <tr>\n",
       "      <th>4</th>\n",
       "      <td>40.389192</td>\n",
       "      <td>9.540813</td>\n",
       "      <td>32.573078</td>\n",
       "      <td>6.568140</td>\n",
       "    </tr>\n",
       "    <tr>\n",
       "      <th>...</th>\n",
       "      <td>...</td>\n",
       "      <td>...</td>\n",
       "      <td>...</td>\n",
       "      <td>...</td>\n",
       "    </tr>\n",
       "    <tr>\n",
       "      <th>2340</th>\n",
       "      <td>10.199390</td>\n",
       "      <td>4.962047</td>\n",
       "      <td>2.627130</td>\n",
       "      <td>0.794350</td>\n",
       "    </tr>\n",
       "    <tr>\n",
       "      <th>2341</th>\n",
       "      <td>10.400435</td>\n",
       "      <td>5.061499</td>\n",
       "      <td>2.680198</td>\n",
       "      <td>0.809760</td>\n",
       "    </tr>\n",
       "    <tr>\n",
       "      <th>2342</th>\n",
       "      <td>10.605826</td>\n",
       "      <td>5.145042</td>\n",
       "      <td>2.726392</td>\n",
       "      <td>0.805257</td>\n",
       "    </tr>\n",
       "    <tr>\n",
       "      <th>2343</th>\n",
       "      <td>10.747950</td>\n",
       "      <td>5.196251</td>\n",
       "      <td>2.770257</td>\n",
       "      <td>0.815172</td>\n",
       "    </tr>\n",
       "    <tr>\n",
       "      <th>2344</th>\n",
       "      <td>10.937900</td>\n",
       "      <td>5.289871</td>\n",
       "      <td>2.825154</td>\n",
       "      <td>0.831584</td>\n",
       "    </tr>\n",
       "  </tbody>\n",
       "</table>\n",
       "<p>2345 rows × 4 columns</p>\n",
       "</div>"
      ],
      "text/plain": [
       "Ticker        AGG       DBC        VTI       ^VIX\n",
       "0             NaN       NaN        NaN        NaN\n",
       "1             NaN       NaN        NaN        NaN\n",
       "2       27.661773  5.893858  18.906104  18.480298\n",
       "3       39.126708  8.331284  26.661787   5.377897\n",
       "4       40.389192  9.540813  32.573078   6.568140\n",
       "...           ...       ...        ...        ...\n",
       "2340    10.199390  4.962047   2.627130   0.794350\n",
       "2341    10.400435  5.061499   2.680198   0.809760\n",
       "2342    10.605826  5.145042   2.726392   0.805257\n",
       "2343    10.747950  5.196251   2.770257   0.815172\n",
       "2344    10.937900  5.289871   2.825154   0.831584\n",
       "\n",
       "[2345 rows x 4 columns]"
      ]
     },
     "execution_count": 451,
     "metadata": {},
     "output_type": "execute_result"
    }
   ],
   "source": [
    "vol_scale_df"
   ]
  }
 ],
 "metadata": {
  "kernelspec": {
   "display_name": "base",
   "language": "python",
   "name": "python3"
  },
  "language_info": {
   "codemirror_mode": {
    "name": "ipython",
    "version": 3
   },
   "file_extension": ".py",
   "mimetype": "text/x-python",
   "name": "python",
   "nbconvert_exporter": "python",
   "pygments_lexer": "ipython3",
   "version": "3.12.6"
  }
 },
 "nbformat": 4,
 "nbformat_minor": 2
}
