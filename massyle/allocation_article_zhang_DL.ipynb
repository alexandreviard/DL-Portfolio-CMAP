{
 "cells": [
  {
   "cell_type": "code",
   "execution_count": 2,
   "metadata": {},
   "outputs": [],
   "source": [
    "import numpy as np\n",
    "import yfinance as yf\n",
    "import pandas as pd\n",
    "import matplotlib.pyplot as plt\n",
    "import math"
   ]
  },
  {
   "cell_type": "code",
   "execution_count": 30,
   "metadata": {},
   "outputs": [
    {
     "name": "stderr",
     "output_type": "stream",
     "text": [
      "[*********************100%***********************]  4 of 4 completed\n"
     ]
    }
   ],
   "source": [
    "tickers = ['VTI', 'AGG', 'DBC', '^VIX']\n",
    "data = yf.download(tickers, start=\"2011-01-01\", end=\"2020-04-30\", interval=\"1d\")['Adj Close']\n",
    "data_na = data.dropna(axis = 0)\n",
    "data_na.dropna(axis=0, inplace=True)\n",
    "data_na.reset_index(inplace=True)\n",
    "data_na['Date'] = data_na['Date'].dt.date\n"
   ]
  },
  {
   "cell_type": "code",
   "execution_count": 31,
   "metadata": {},
   "outputs": [],
   "source": [
    "data_na['Date'] = pd.to_datetime(data_na['Date'])\n"
   ]
  },
  {
   "cell_type": "code",
   "execution_count": 32,
   "metadata": {},
   "outputs": [
    {
     "data": {
      "text/html": [
       "<div>\n",
       "<style scoped>\n",
       "    .dataframe tbody tr th:only-of-type {\n",
       "        vertical-align: middle;\n",
       "    }\n",
       "\n",
       "    .dataframe tbody tr th {\n",
       "        vertical-align: top;\n",
       "    }\n",
       "\n",
       "    .dataframe thead th {\n",
       "        text-align: right;\n",
       "    }\n",
       "</style>\n",
       "<table border=\"1\" class=\"dataframe\">\n",
       "  <thead>\n",
       "    <tr style=\"text-align: right;\">\n",
       "      <th>Ticker</th>\n",
       "      <th>Date</th>\n",
       "      <th>AGG</th>\n",
       "      <th>DBC</th>\n",
       "      <th>VTI</th>\n",
       "      <th>^VIX</th>\n",
       "    </tr>\n",
       "  </thead>\n",
       "  <tbody>\n",
       "    <tr>\n",
       "      <th>0</th>\n",
       "      <td>2011-01-03</td>\n",
       "      <td>73.837639</td>\n",
       "      <td>25.471508</td>\n",
       "      <td>51.215210</td>\n",
       "      <td>17.610001</td>\n",
       "    </tr>\n",
       "    <tr>\n",
       "      <th>1</th>\n",
       "      <td>2011-01-04</td>\n",
       "      <td>73.858627</td>\n",
       "      <td>25.130905</td>\n",
       "      <td>51.113708</td>\n",
       "      <td>17.379999</td>\n",
       "    </tr>\n",
       "    <tr>\n",
       "      <th>2</th>\n",
       "      <td>2011-01-05</td>\n",
       "      <td>73.502113</td>\n",
       "      <td>25.397865</td>\n",
       "      <td>51.394768</td>\n",
       "      <td>17.020000</td>\n",
       "    </tr>\n",
       "    <tr>\n",
       "      <th>3</th>\n",
       "      <td>2011-01-06</td>\n",
       "      <td>73.516075</td>\n",
       "      <td>25.057262</td>\n",
       "      <td>51.277657</td>\n",
       "      <td>17.400000</td>\n",
       "    </tr>\n",
       "    <tr>\n",
       "      <th>4</th>\n",
       "      <td>2011-01-07</td>\n",
       "      <td>73.753784</td>\n",
       "      <td>24.965210</td>\n",
       "      <td>51.160545</td>\n",
       "      <td>17.139999</td>\n",
       "    </tr>\n",
       "    <tr>\n",
       "      <th>...</th>\n",
       "      <td>...</td>\n",
       "      <td>...</td>\n",
       "      <td>...</td>\n",
       "      <td>...</td>\n",
       "      <td>...</td>\n",
       "    </tr>\n",
       "    <tr>\n",
       "      <th>2341</th>\n",
       "      <td>2020-04-23</td>\n",
       "      <td>104.660980</td>\n",
       "      <td>10.270258</td>\n",
       "      <td>130.396225</td>\n",
       "      <td>41.380001</td>\n",
       "    </tr>\n",
       "    <tr>\n",
       "      <th>2342</th>\n",
       "      <td>2020-04-24</td>\n",
       "      <td>104.607498</td>\n",
       "      <td>10.137616</td>\n",
       "      <td>132.339752</td>\n",
       "      <td>35.930000</td>\n",
       "    </tr>\n",
       "    <tr>\n",
       "      <th>2343</th>\n",
       "      <td>2020-04-27</td>\n",
       "      <td>104.126190</td>\n",
       "      <td>9.948129</td>\n",
       "      <td>134.685135</td>\n",
       "      <td>33.290001</td>\n",
       "    </tr>\n",
       "    <tr>\n",
       "      <th>2344</th>\n",
       "      <td>2020-04-28</td>\n",
       "      <td>104.536201</td>\n",
       "      <td>9.957603</td>\n",
       "      <td>134.264633</td>\n",
       "      <td>33.570000</td>\n",
       "    </tr>\n",
       "    <tr>\n",
       "      <th>2345</th>\n",
       "      <td>2020-04-29</td>\n",
       "      <td>104.607498</td>\n",
       "      <td>10.137616</td>\n",
       "      <td>138.067673</td>\n",
       "      <td>31.230000</td>\n",
       "    </tr>\n",
       "  </tbody>\n",
       "</table>\n",
       "<p>2346 rows × 5 columns</p>\n",
       "</div>"
      ],
      "text/plain": [
       "Ticker       Date         AGG        DBC         VTI       ^VIX\n",
       "0      2011-01-03   73.837639  25.471508   51.215210  17.610001\n",
       "1      2011-01-04   73.858627  25.130905   51.113708  17.379999\n",
       "2      2011-01-05   73.502113  25.397865   51.394768  17.020000\n",
       "3      2011-01-06   73.516075  25.057262   51.277657  17.400000\n",
       "4      2011-01-07   73.753784  24.965210   51.160545  17.139999\n",
       "...           ...         ...        ...         ...        ...\n",
       "2341   2020-04-23  104.660980  10.270258  130.396225  41.380001\n",
       "2342   2020-04-24  104.607498  10.137616  132.339752  35.930000\n",
       "2343   2020-04-27  104.126190   9.948129  134.685135  33.290001\n",
       "2344   2020-04-28  104.536201   9.957603  134.264633  33.570000\n",
       "2345   2020-04-29  104.607498  10.137616  138.067673  31.230000\n",
       "\n",
       "[2346 rows x 5 columns]"
      ]
     },
     "execution_count": 32,
     "metadata": {},
     "output_type": "execute_result"
    }
   ],
   "source": [
    "data_na"
   ]
  },
  {
   "cell_type": "code",
   "execution_count": 5,
   "metadata": {},
   "outputs": [],
   "source": [
    "# Allocation initiale\n",
    "initial_allocation = [0.50, 0.10, 0.20, 0.20]  # Allocations initiales pour VTI, AGG, DBC, VIX\n",
    "portfolio_value = 1\n"
   ]
  },
  {
   "cell_type": "code",
   "execution_count": 6,
   "metadata": {},
   "outputs": [],
   "source": [
    "# Créer un DataFrame pour les allocations initiales\n",
    "allocation_df = pd.DataFrame(index=data_na.index, columns=[f'{col}_alloc' for col in data_na.columns[1:]])\n",
    "\n",
    "# Initialiser les allocations du portefeuille pour chaque actif\n",
    "initial_prices = data_na.iloc[0, 1:]  # Prix initiaux des actifs\n",
    "allocation_df.iloc[0] = [portfolio_value * alloc / price for alloc, price in zip(initial_allocation, initial_prices)]\n"
   ]
  },
  {
   "cell_type": "code",
   "execution_count": 7,
   "metadata": {},
   "outputs": [],
   "source": [
    "def rebalance_portfolio(row, prev_alloc, prices, initial_allocation):\n",
    "    total_value = (prev_alloc * prices).sum()  # Calcul de la valeur totale du portefeuille\n",
    "    new_alloc = [(total_value * alloc) / price for alloc, price in zip(initial_allocation, prices)]\n",
    "    return pd.Series(new_alloc)\n"
   ]
  },
  {
   "cell_type": "code",
   "execution_count": 8,
   "metadata": {},
   "outputs": [],
   "source": [
    "# DataFrame pour stocker les valeurs du portefeuille\n",
    "portfolio_df = pd.DataFrame(index=data_na.index, columns=['Date', 'portfolio_value'])\n",
    "portfolio_df['Date'] = data_na['Date']"
   ]
  },
  {
   "cell_type": "code",
   "execution_count": 9,
   "metadata": {},
   "outputs": [],
   "source": [
    "# Parcourir chaque année et réallouer le portefeuille au 1er janvier de chaque année\n",
    "for i in range(1, len(data_na)):\n",
    "    current_year = pd.to_datetime(data_na.loc[i, 'Date']).year\n",
    "    previous_year = pd.to_datetime(data_na.loc[i-1, 'Date']).year\n",
    "    \n",
    "    if current_year != previous_year:  # Réallocation si on change d'année\n",
    "        previous_alloc = allocation_df.iloc[i-1].values.astype(float)\n",
    "        current_prices = data_na.iloc[i, 1:].values.astype(float)\n",
    "        \n",
    "        # Réallocation basée sur les prix actuels et les allocations initiales\n",
    "        allocation_df.iloc[i] = rebalance_portfolio(data_na.iloc[i],previous_alloc, current_prices, initial_allocation)\n",
    "    else:\n",
    "        allocation_df.iloc[i] = allocation_df.iloc[i-1]  # Conserver la même allocation\n",
    "    \n",
    "    # Utilisation de loc pour éviter les avertissements\n",
    "    portfolio_df.loc[i, 'portfolio_value'] = (allocation_df.iloc[i] * data_na.iloc[i, 1:].values).sum()\n"
   ]
  },
  {
   "cell_type": "code",
   "execution_count": 10,
   "metadata": {},
   "outputs": [],
   "source": [
    "# Initialisation du DataFrame des poids\n",
    "weights_df = pd.DataFrame(index=data_na.index, columns=data_na.columns[1:])\n",
    "\n",
    "# Poids fixes pour 2011\n",
    "weights_2011 = initial_allocation  \n",
    "\n",
    "# Assignation des poids pour 2011\n",
    "for i in range(len(data_na)):\n",
    "    current_year = pd.to_datetime(data_na.loc[i, 'Date']).year\n",
    "    \n",
    "    if current_year == 2011:\n",
    "        weights_df.loc[i] = weights_2011  \n",
    "    elif current_year > 2011:\n",
    "        # Si c'est la première occurrence de l'année\n",
    "        if i == 0 or pd.to_datetime(data_na.loc[i - 1, 'Date']).year != current_year:\n",
    "            # Récupérer les prix de la première ligne de l'année\n",
    "            first_row_prices = data_na.iloc[i, 1:].values.astype(float)\n",
    "            # Calculer les poids basés sur la première ligne de l'année\n",
    "            weights_df.loc[i] = fixed_weights = first_row_prices / first_row_prices.sum()\n",
    "        else:\n",
    "            # Pour les autres jours de la même année, conserver les mêmes poids\n",
    "            weights_df.loc[i] = weights_df.loc[i - 1]\n",
    "\n"
   ]
  },
  {
   "cell_type": "code",
   "execution_count": 11,
   "metadata": {},
   "outputs": [],
   "source": [
    "# Supprimer la dernière ligne du DataFrame des poids\n",
    "weights_df = weights_df.drop(weights_df.index[-1]).reset_index(drop=True)\n"
   ]
  },
  {
   "cell_type": "code",
   "execution_count": 12,
   "metadata": {},
   "outputs": [],
   "source": [
    "# Calculer les rendements quotidiens\n",
    "returns_df = data_na.iloc[:, 1:].pct_change().fillna(0)\n",
    "returns_df['Date'] = data_na['Date']\n",
    "returns_df = returns_df[['Date'] + list(returns_df.columns[:-1])]\n",
    "\n"
   ]
  },
  {
   "cell_type": "code",
   "execution_count": 13,
   "metadata": {},
   "outputs": [],
   "source": [
    "returns_df = returns_df.drop(index=returns_df.index[0]).reset_index(drop=True)"
   ]
  },
  {
   "cell_type": "code",
   "execution_count": 14,
   "metadata": {},
   "outputs": [],
   "source": [
    "returns_df = returns_df.drop(columns=['Date'])"
   ]
  },
  {
   "cell_type": "code",
   "execution_count": 15,
   "metadata": {},
   "outputs": [],
   "source": [
    "# Calculer le produit terme à terme\n",
    "weighted_returns = returns_df.values * weights_df.values\n",
    "\n",
    "# Somme sur les lignes pour obtenir le rendement du portefeuille\n",
    "portfolio_returns = weighted_returns.sum(axis=1)"
   ]
  },
  {
   "cell_type": "code",
   "execution_count": 16,
   "metadata": {},
   "outputs": [
    {
     "data": {
      "text/plain": [
       "array([-0.004203606759099488, -0.00439414757280957, 0.002763499438648076,\n",
       "       ..., 0.003776011157360968, 0.00011878580811951986,\n",
       "       0.01359452227762845], dtype=object)"
      ]
     },
     "execution_count": 16,
     "metadata": {},
     "output_type": "execute_result"
    }
   ],
   "source": [
    "portfolio_returns"
   ]
  },
  {
   "cell_type": "code",
   "execution_count": 17,
   "metadata": {},
   "outputs": [
    {
     "name": "stdout",
     "output_type": "stream",
     "text": [
      "Espérance des rendements : 0.1334\n",
      "Standard déviation : 0.1133\n",
      "Sharpe ratio : 1.1769\n"
     ]
    }
   ],
   "source": [
    "# Calcul de l'espérance des rendements (moyenne)\n",
    "expected_return = portfolio_returns.mean()\n",
    "expected_return = (expected_return+1)**252-1\n",
    "\n",
    "# Calcul de la standard déviation\n",
    "std_dev = portfolio_returns.std()\n",
    "std_dev = std_dev * math.sqrt(252)\n",
    "risk_free_rate = 0.0\n",
    "\n",
    "# Calcul du Sharpe ratio\n",
    "sharpe_ratio = (expected_return - risk_free_rate) / std_dev\n",
    "\n",
    "# Affichage des résultats\n",
    "print(f\"Espérance des rendements : {expected_return:.4f}\")\n",
    "print(f\"Standard déviation : {std_dev:.4f}\")\n",
    "print(f\"Sharpe ratio : {sharpe_ratio:.4f}\")\n"
   ]
  },
  {
   "cell_type": "code",
   "execution_count": 18,
   "metadata": {},
   "outputs": [],
   "source": [
    "# Initialisation des listes pour stocker les premières données de chaque année\n",
    "weights_first_list = []\n",
    "prices_first_list = []\n",
    "returns_first_list = []\n",
    "allocation_first_list = []\n",
    "\n",
    "# Boucle sur les années de 2011 à 2020\n",
    "for year in range(2011, 2021):\n",
    "    # Filtrer les données pour l'année en question\n",
    "    mask = pd.to_datetime(data_na['Date']).dt.year == year\n",
    "    \n",
    "    # Stocker la première ligne de chaque année dans les listes\n",
    "    weights_first_list.append(weights_df.loc[mask].iloc[0])\n",
    "    prices_first_list.append(data_na.loc[mask].iloc[0])\n",
    "    returns_first_list.append(returns_df.loc[mask].iloc[0])\n",
    "    allocation_first_list.append(allocation_df.loc[mask].iloc[0])\n",
    "\n",
    "# Convertir les listes en DataFrames\n",
    "weights_first_df = pd.DataFrame(weights_first_list).reset_index(drop=True)\n",
    "prices_first_df = pd.DataFrame(prices_first_list).reset_index(drop=True)\n",
    "returns_first_df = pd.DataFrame(returns_first_list).reset_index(drop=True)\n",
    "allocation_first_df = pd.DataFrame(allocation_first_list).reset_index(drop=True)\n"
   ]
  },
  {
   "cell_type": "markdown",
   "metadata": {},
   "source": [
    "## Prise en compte du cout de transaction"
   ]
  },
  {
   "cell_type": "markdown",
   "metadata": {},
   "source": []
  },
  {
   "cell_type": "code",
   "execution_count": 19,
   "metadata": {},
   "outputs": [],
   "source": [
    "C = 0.01  \n",
    "\n",
    "# Initialisation du vecteur des coûts de transaction\n",
    "transaction_costs = np.zeros(len(weights_df))\n",
    "\n",
    "# Calcul des coûts de transaction\n",
    "for t in range(2, len(weights_df)):\n",
    "    # Calcul des différences de poids\n",
    "    diff_weights = weights_df.iloc[t - 1].values - weights_df.iloc[t - 2].values\n",
    "    \n",
    "    # Somme des valeurs absolues des différences\n",
    "    sum_abs_diff = np.sum(np.abs(diff_weights))\n",
    "    \n",
    "    # Coût de transaction pour le temps t\n",
    "    transaction_costs[t] = C * sum_abs_diff\n",
    "\n"
   ]
  },
  {
   "cell_type": "code",
   "execution_count": 20,
   "metadata": {},
   "outputs": [],
   "source": [
    "portfolio_with_transac_cost = portfolio_returns +transaction_costs"
   ]
  },
  {
   "cell_type": "code",
   "execution_count": 21,
   "metadata": {},
   "outputs": [
    {
     "name": "stdout",
     "output_type": "stream",
     "text": [
      "Espérance des rendements : 0.1347\n",
      "Standard déviation : 0.1133\n",
      "Sharpe ratio : 1.1883\n"
     ]
    }
   ],
   "source": [
    "# Calcul de l'espérance des rendements (moyenne)\n",
    "expected_return = portfolio_with_transac_cost.mean()\n",
    "expected_return = (expected_return+1)**252-1\n",
    "\n",
    "# Calcul de la standard déviation\n",
    "std_dev = portfolio_with_transac_cost.std()\n",
    "std_dev = std_dev * math.sqrt(252)\n",
    "risk_free_rate = 0.0\n",
    "\n",
    "# Calcul du Sharpe ratio\n",
    "sharpe_ratio = (expected_return - risk_free_rate) / std_dev\n",
    "\n",
    "# Affichage des résultats\n",
    "print(f\"Espérance des rendements : {expected_return:.4f}\")\n",
    "print(f\"Standard déviation : {std_dev:.4f}\")\n",
    "print(f\"Sharpe ratio : {sharpe_ratio:.4f}\")\n"
   ]
  },
  {
   "cell_type": "markdown",
   "metadata": {},
   "source": [
    "## Prise en compte de la volatilité scaling"
   ]
  },
  {
   "cell_type": "code",
   "execution_count": 22,
   "metadata": {},
   "outputs": [],
   "source": [
    "# Initialisation du DataFrame pour stocker les volatilités ex-ante\n",
    "volatility_df = pd.DataFrame(index=returns_df.index, columns=returns_df.columns)\n",
    "\n",
    "# Boucle sur chaque colonne (actif) pour calculer la volatilité\n",
    "for col in returns_df.columns:\n",
    "    # Calcul de la variance exponentiellement pondérée sur 50 jours\n",
    "    ew_var = returns_df[col].ewm(span=50, adjust=False).var()\n",
    "    \n",
    "    # Calcul de la volatilité ex-ante en prenant la racine carrée de la variance\n",
    "    volatility_df[col] = ew_var.shift(1).apply(lambda x: x**0.5)\n",
    "\n"
   ]
  },
  {
   "cell_type": "code",
   "execution_count": 23,
   "metadata": {},
   "outputs": [
    {
     "data": {
      "text/html": [
       "<div>\n",
       "<style scoped>\n",
       "    .dataframe tbody tr th:only-of-type {\n",
       "        vertical-align: middle;\n",
       "    }\n",
       "\n",
       "    .dataframe tbody tr th {\n",
       "        vertical-align: top;\n",
       "    }\n",
       "\n",
       "    .dataframe thead th {\n",
       "        text-align: right;\n",
       "    }\n",
       "</style>\n",
       "<table border=\"1\" class=\"dataframe\">\n",
       "  <thead>\n",
       "    <tr style=\"text-align: right;\">\n",
       "      <th>Ticker</th>\n",
       "      <th>AGG</th>\n",
       "      <th>DBC</th>\n",
       "      <th>VTI</th>\n",
       "      <th>^VIX</th>\n",
       "    </tr>\n",
       "  </thead>\n",
       "  <tbody>\n",
       "    <tr>\n",
       "      <th>48</th>\n",
       "      <td>0.002047</td>\n",
       "      <td>0.010439</td>\n",
       "      <td>0.008735</td>\n",
       "      <td>0.071994</td>\n",
       "    </tr>\n",
       "    <tr>\n",
       "      <th>49</th>\n",
       "      <td>0.002005</td>\n",
       "      <td>0.012417</td>\n",
       "      <td>0.008787</td>\n",
       "      <td>0.076133</td>\n",
       "    </tr>\n",
       "    <tr>\n",
       "      <th>50</th>\n",
       "      <td>0.002024</td>\n",
       "      <td>0.012272</td>\n",
       "      <td>0.009203</td>\n",
       "      <td>0.084170</td>\n",
       "    </tr>\n",
       "    <tr>\n",
       "      <th>51</th>\n",
       "      <td>0.001995</td>\n",
       "      <td>0.013688</td>\n",
       "      <td>0.009374</td>\n",
       "      <td>0.085929</td>\n",
       "    </tr>\n",
       "    <tr>\n",
       "      <th>52</th>\n",
       "      <td>0.001960</td>\n",
       "      <td>0.013469</td>\n",
       "      <td>0.009250</td>\n",
       "      <td>0.085940</td>\n",
       "    </tr>\n",
       "  </tbody>\n",
       "</table>\n",
       "</div>"
      ],
      "text/plain": [
       "Ticker       AGG       DBC       VTI      ^VIX\n",
       "48      0.002047  0.010439  0.008735  0.071994\n",
       "49      0.002005  0.012417  0.008787  0.076133\n",
       "50      0.002024  0.012272  0.009203  0.084170\n",
       "51      0.001995  0.013688  0.009374  0.085929\n",
       "52      0.001960  0.013469  0.009250  0.085940"
      ]
     },
     "execution_count": 23,
     "metadata": {},
     "output_type": "execute_result"
    }
   ],
   "source": [
    "volatility_df.iloc[48:53]"
   ]
  },
  {
   "cell_type": "code",
   "execution_count": 24,
   "metadata": {},
   "outputs": [],
   "source": [
    "# Définition du paramètre alpha\n",
    "vol_target = 0.1  \n",
    "\n",
    "vol_scale_df = vol_target / volatility_df\n"
   ]
  },
  {
   "cell_type": "code",
   "execution_count": 25,
   "metadata": {},
   "outputs": [
    {
     "data": {
      "text/html": [
       "<div>\n",
       "<style scoped>\n",
       "    .dataframe tbody tr th:only-of-type {\n",
       "        vertical-align: middle;\n",
       "    }\n",
       "\n",
       "    .dataframe tbody tr th {\n",
       "        vertical-align: top;\n",
       "    }\n",
       "\n",
       "    .dataframe thead th {\n",
       "        text-align: right;\n",
       "    }\n",
       "</style>\n",
       "<table border=\"1\" class=\"dataframe\">\n",
       "  <thead>\n",
       "    <tr style=\"text-align: right;\">\n",
       "      <th>Ticker</th>\n",
       "      <th>AGG</th>\n",
       "      <th>DBC</th>\n",
       "      <th>VTI</th>\n",
       "      <th>^VIX</th>\n",
       "    </tr>\n",
       "  </thead>\n",
       "  <tbody>\n",
       "    <tr>\n",
       "      <th>0</th>\n",
       "      <td>NaN</td>\n",
       "      <td>NaN</td>\n",
       "      <td>NaN</td>\n",
       "      <td>NaN</td>\n",
       "    </tr>\n",
       "    <tr>\n",
       "      <th>1</th>\n",
       "      <td>NaN</td>\n",
       "      <td>NaN</td>\n",
       "      <td>NaN</td>\n",
       "      <td>NaN</td>\n",
       "    </tr>\n",
       "    <tr>\n",
       "      <th>2</th>\n",
       "      <td>27.668754</td>\n",
       "      <td>5.893858</td>\n",
       "      <td>18.905163</td>\n",
       "      <td>18.480298</td>\n",
       "    </tr>\n",
       "    <tr>\n",
       "      <th>3</th>\n",
       "      <td>39.136400</td>\n",
       "      <td>8.331284</td>\n",
       "      <td>26.660422</td>\n",
       "      <td>5.377897</td>\n",
       "    </tr>\n",
       "    <tr>\n",
       "      <th>4</th>\n",
       "      <td>40.391862</td>\n",
       "      <td>9.540802</td>\n",
       "      <td>32.571576</td>\n",
       "      <td>6.568140</td>\n",
       "    </tr>\n",
       "    <tr>\n",
       "      <th>...</th>\n",
       "      <td>...</td>\n",
       "      <td>...</td>\n",
       "      <td>...</td>\n",
       "      <td>...</td>\n",
       "    </tr>\n",
       "    <tr>\n",
       "      <th>2340</th>\n",
       "      <td>10.199396</td>\n",
       "      <td>4.962047</td>\n",
       "      <td>2.627129</td>\n",
       "      <td>0.794350</td>\n",
       "    </tr>\n",
       "    <tr>\n",
       "      <th>2341</th>\n",
       "      <td>10.400440</td>\n",
       "      <td>5.061499</td>\n",
       "      <td>2.680198</td>\n",
       "      <td>0.809760</td>\n",
       "    </tr>\n",
       "    <tr>\n",
       "      <th>2342</th>\n",
       "      <td>10.605831</td>\n",
       "      <td>5.145042</td>\n",
       "      <td>2.726392</td>\n",
       "      <td>0.805257</td>\n",
       "    </tr>\n",
       "    <tr>\n",
       "      <th>2343</th>\n",
       "      <td>10.747953</td>\n",
       "      <td>5.196251</td>\n",
       "      <td>2.770256</td>\n",
       "      <td>0.815172</td>\n",
       "    </tr>\n",
       "    <tr>\n",
       "      <th>2344</th>\n",
       "      <td>10.937903</td>\n",
       "      <td>5.289871</td>\n",
       "      <td>2.825154</td>\n",
       "      <td>0.831584</td>\n",
       "    </tr>\n",
       "  </tbody>\n",
       "</table>\n",
       "<p>2345 rows × 4 columns</p>\n",
       "</div>"
      ],
      "text/plain": [
       "Ticker        AGG       DBC        VTI       ^VIX\n",
       "0             NaN       NaN        NaN        NaN\n",
       "1             NaN       NaN        NaN        NaN\n",
       "2       27.668754  5.893858  18.905163  18.480298\n",
       "3       39.136400  8.331284  26.660422   5.377897\n",
       "4       40.391862  9.540802  32.571576   6.568140\n",
       "...           ...       ...        ...        ...\n",
       "2340    10.199396  4.962047   2.627129   0.794350\n",
       "2341    10.400440  5.061499   2.680198   0.809760\n",
       "2342    10.605831  5.145042   2.726392   0.805257\n",
       "2343    10.747953  5.196251   2.770256   0.815172\n",
       "2344    10.937903  5.289871   2.825154   0.831584\n",
       "\n",
       "[2345 rows x 4 columns]"
      ]
     },
     "execution_count": 25,
     "metadata": {},
     "output_type": "execute_result"
    }
   ],
   "source": [
    "vol_scale_df"
   ]
  }
 ],
 "metadata": {
  "kernelspec": {
   "display_name": "base",
   "language": "python",
   "name": "python3"
  },
  "language_info": {
   "codemirror_mode": {
    "name": "ipython",
    "version": 3
   },
   "file_extension": ".py",
   "mimetype": "text/x-python",
   "name": "python",
   "nbconvert_exporter": "python",
   "pygments_lexer": "ipython3",
   "version": "3.12.6"
  }
 },
 "nbformat": 4,
 "nbformat_minor": 2
}
