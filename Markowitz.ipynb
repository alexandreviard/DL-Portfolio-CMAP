{
 "cells": [
  {
   "cell_type": "code",
   "execution_count": 68,
   "metadata": {},
   "outputs": [],
   "source": [
    "import numpy as np \n",
    "import pandas as pd\n",
    "import matplotlib.pyplot as plt  \n",
    "import yfinance as yf \n",
    "from datetime import datetime, timedelta"
   ]
  },
  {
   "cell_type": "code",
   "execution_count": 69,
   "metadata": {},
   "outputs": [],
   "source": [
    "class FinancialData():\n",
    "\n",
    "    def __init__(self, tickers_csv_path, num_tickers):\n",
    "        self.tickers_csv_path = tickers_csv_path\n",
    "        self.num_tickers = num_tickers\n",
    "        self.tickers = self.extract_tickers()\n",
    "        self.data_clean = None\n",
    "        self.mu = None\n",
    "        self.Epsilon = None\n",
    "        \n",
    "    def extract_tickers(self):\n",
    "        tickers_df = pd.read_csv(self.tickers_csv_path)\n",
    "        list_tickers = tickers_df.loc[:self.num_tickers - 1, 'Ticker'].values.tolist()\n",
    "        return list_tickers\n",
    "    \n",
    "    def get_returns(self, start, end, period=\"1d\"):\n",
    "        end = start\n",
    "        start = end\n",
    "        data = yf.download(self.tickers, start=start, end=end, period=period)['Adj Close']\n",
    "        data = data.pct_change(fill_method=None).dropna()\n",
    "        data.index = data.index.strftime(\"%Y-%m-%d\")\n",
    "        self.data_clean = data\n",
    "\n",
    "    def calculate_statistics(self):\n",
    "        if self.data_clean is not None:\n",
    "            self.mu = self.data_clean.mean(axis=1).values\n",
    "            self.Epsilon = self.data_clean.cov().to_numpy()\n",
    "        else:\n",
    "            print(\"get returns before please\")\n"
   ]
  },
  {
   "cell_type": "code",
   "execution_count": 70,
   "metadata": {},
   "outputs": [],
   "source": [
    "# input \n",
    "\n",
    "tickers_csv_path = \"C:\\\\Users\\\\Nicola\\\\clones_github\\\\DL-Portfolio-CMAP\\\\data\\\\S&P 500 tickers.csv\"\n",
    "num_tickers = 5 \n",
    "end = datetime.today()\n",
    "start = end - timedelta(days=4)"
   ]
  },
  {
   "cell_type": "code",
   "execution_count": 71,
   "metadata": {},
   "outputs": [
    {
     "name": "stderr",
     "output_type": "stream",
     "text": [
      "[*********************100%***********************]  5 of 5 completed\n",
      "\n",
      "5 Failed downloads:\n",
      "['ABBV', 'AOS', 'ACN', 'ABT', 'MMM']: YFPricesMissingError('$%ticker%: possibly delisted; no price data found  (1d 2024-10-11 22:48:36.324863 -> 2024-10-11 22:48:36.324863)')\n",
      "c:\\Users\\Nicola\\AppData\\Local\\Programs\\Python\\Python311\\Lib\\site-packages\\numpy\\lib\\function_base.py:520: RuntimeWarning: Mean of empty slice.\n",
      "  avg = a.mean(axis, **keepdims_kw)\n",
      "c:\\Users\\Nicola\\AppData\\Local\\Programs\\Python\\Python311\\Lib\\site-packages\\numpy\\core\\_methods.py:121: RuntimeWarning: invalid value encountered in divide\n",
      "  ret = um.true_divide(\n",
      "c:\\Users\\Nicola\\AppData\\Local\\Programs\\Python\\Python311\\Lib\\site-packages\\pandas\\core\\frame.py:11211: RuntimeWarning: Degrees of freedom <= 0 for slice\n",
      "  base_cov = np.cov(mat.T, ddof=ddof)\n",
      "c:\\Users\\Nicola\\AppData\\Local\\Programs\\Python\\Python311\\Lib\\site-packages\\numpy\\lib\\function_base.py:2748: RuntimeWarning: divide by zero encountered in divide\n",
      "  c *= np.true_divide(1, fact)\n",
      "c:\\Users\\Nicola\\AppData\\Local\\Programs\\Python\\Python311\\Lib\\site-packages\\numpy\\lib\\function_base.py:2748: RuntimeWarning: invalid value encountered in multiply\n",
      "  c *= np.true_divide(1, fact)\n"
     ]
    }
   ],
   "source": [
    "# output\n",
    "\n",
    "data_extractor_5 = FinancialData(tickers_csv_path, num_tickers)\n",
    "data_extractor_5.extract_tickers()\n",
    "data_extractor_5.get_returns(start=start, end=end)\n",
    "data_extractor_5.calculate_statistics()\n",
    "rets_df = data_extractor_5.data_clean\n",
    "mu_5 = data_extractor_5.mu\n",
    "Eps_5 = data_extractor_5.Epsilon"
   ]
  },
  {
   "cell_type": "code",
   "execution_count": null,
   "metadata": {},
   "outputs": [],
   "source": []
  }
 ],
 "metadata": {
  "kernelspec": {
   "display_name": "Python 3",
   "language": "python",
   "name": "python3"
  },
  "language_info": {
   "codemirror_mode": {
    "name": "ipython",
    "version": 3
   },
   "file_extension": ".py",
   "mimetype": "text/x-python",
   "name": "python",
   "nbconvert_exporter": "python",
   "pygments_lexer": "ipython3",
   "version": "3.11.5"
  }
 },
 "nbformat": 4,
 "nbformat_minor": 2
}
