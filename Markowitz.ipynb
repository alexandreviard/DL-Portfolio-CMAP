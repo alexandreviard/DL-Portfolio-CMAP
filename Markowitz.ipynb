{
 "cells": [
  {
   "cell_type": "code",
   "execution_count": 1,
   "metadata": {},
   "outputs": [],
   "source": [
    "import numpy as np \n",
    "import pandas as pd\n",
    "import matplotlib.pyplot as plt  \n",
    "import yfinance as yf \n",
    "from datetime import datetime, timedelta"
   ]
  },
  {
   "cell_type": "code",
   "execution_count": 62,
   "metadata": {},
   "outputs": [],
   "source": [
    "class FinancialData():\n",
    "\n",
    "    def __init__(self, tickers_csv_path, num_tickers):\n",
    "        self.tickers_csv_path = tickers_csv_path\n",
    "        self.num_tickers = num_tickers\n",
    "        self.tickers = None\n",
    "        self.data_clean = None\n",
    "        self.mu = None\n",
    "        self.Sigma = None\n",
    "\n",
    "    def extract_tickers(self):\n",
    "        tickers_df = pd.read_csv(self.tickers_csv_path)\n",
    "        list_tickers = tickers_df.loc[:self.num_tickers - 1, 'Ticker'].tolist()\n",
    "        self.tickers = list_tickers\n",
    "    \n",
    "    def get_returns(self, start, end, period=\"1d\"):\n",
    "        data = yf.download(self.tickers, start=start, end=end, period=period)['Adj Close']\n",
    "        data = data.pct_change(fill_method=None).dropna()\n",
    "        data.index = data.index.strftime(\"%Y-%m-%d\")\n",
    "        self.data_clean = data\n",
    "\n",
    "    def calculate_statistics(self):\n",
    "        if self.data_clean is not None:\n",
    "            self.mu = self.data_clean.mean(axis=0).values\n",
    "            self.Sigma = self.data_clean.cov().to_numpy()\n",
    "        else:\n",
    "            print(\"get returns before please\")\n"
   ]
  },
  {
   "cell_type": "code",
   "execution_count": 63,
   "metadata": {},
   "outputs": [],
   "source": [
    "# input \n",
    "\n",
    "tickers_csv_path = \"C:\\\\Users\\\\Nicola\\\\clones_github\\\\DL-Portfolio-CMAP\\\\data\\\\S&P 500 tickers.csv\"\n",
    "num_tickers = 5 \n",
    "end = datetime.today()\n",
    "start = end - timedelta(days=365.25*20)"
   ]
  },
  {
   "cell_type": "code",
   "execution_count": 64,
   "metadata": {},
   "outputs": [
    {
     "name": "stderr",
     "output_type": "stream",
     "text": [
      "[*********************100%***********************]  5 of 5 completed\n"
     ]
    },
    {
     "data": {
      "text/html": [
       "<div>\n",
       "<style scoped>\n",
       "    .dataframe tbody tr th:only-of-type {\n",
       "        vertical-align: middle;\n",
       "    }\n",
       "\n",
       "    .dataframe tbody tr th {\n",
       "        vertical-align: top;\n",
       "    }\n",
       "\n",
       "    .dataframe thead th {\n",
       "        text-align: right;\n",
       "    }\n",
       "</style>\n",
       "<table border=\"1\" class=\"dataframe\">\n",
       "  <thead>\n",
       "    <tr style=\"text-align: right;\">\n",
       "      <th>Ticker</th>\n",
       "      <th>ABBV</th>\n",
       "      <th>ABT</th>\n",
       "      <th>ACN</th>\n",
       "      <th>AOS</th>\n",
       "      <th>MMM</th>\n",
       "    </tr>\n",
       "    <tr>\n",
       "      <th>Date</th>\n",
       "      <th></th>\n",
       "      <th></th>\n",
       "      <th></th>\n",
       "      <th></th>\n",
       "      <th></th>\n",
       "    </tr>\n",
       "  </thead>\n",
       "  <tbody>\n",
       "    <tr>\n",
       "      <th>2013-01-03</th>\n",
       "      <td>-0.008257</td>\n",
       "      <td>0.038066</td>\n",
       "      <td>-0.003620</td>\n",
       "      <td>-0.015632</td>\n",
       "      <td>-0.001161</td>\n",
       "    </tr>\n",
       "    <tr>\n",
       "      <th>2013-01-04</th>\n",
       "      <td>-0.012633</td>\n",
       "      <td>-0.006012</td>\n",
       "      <td>0.005523</td>\n",
       "      <td>0.010849</td>\n",
       "      <td>0.007394</td>\n",
       "    </tr>\n",
       "    <tr>\n",
       "      <th>2013-01-07</th>\n",
       "      <td>0.002036</td>\n",
       "      <td>0.008165</td>\n",
       "      <td>-0.004336</td>\n",
       "      <td>-0.011044</td>\n",
       "      <td>0.001258</td>\n",
       "    </tr>\n",
       "    <tr>\n",
       "      <th>2013-01-08</th>\n",
       "      <td>-0.021764</td>\n",
       "      <td>0.000300</td>\n",
       "      <td>0.005806</td>\n",
       "      <td>0.019031</td>\n",
       "      <td>0.000105</td>\n",
       "    </tr>\n",
       "    <tr>\n",
       "      <th>2013-01-09</th>\n",
       "      <td>0.005636</td>\n",
       "      <td>0.006597</td>\n",
       "      <td>0.007072</td>\n",
       "      <td>-0.006483</td>\n",
       "      <td>0.009529</td>\n",
       "    </tr>\n",
       "  </tbody>\n",
       "</table>\n",
       "</div>"
      ],
      "text/plain": [
       "Ticker          ABBV       ABT       ACN       AOS       MMM\n",
       "Date                                                        \n",
       "2013-01-03 -0.008257  0.038066 -0.003620 -0.015632 -0.001161\n",
       "2013-01-04 -0.012633 -0.006012  0.005523  0.010849  0.007394\n",
       "2013-01-07  0.002036  0.008165 -0.004336 -0.011044  0.001258\n",
       "2013-01-08 -0.021764  0.000300  0.005806  0.019031  0.000105\n",
       "2013-01-09  0.005636  0.006597  0.007072 -0.006483  0.009529"
      ]
     },
     "execution_count": 64,
     "metadata": {},
     "output_type": "execute_result"
    }
   ],
   "source": [
    "# output\n",
    "\n",
    "data_extractor_5 = FinancialData(tickers_csv_path, num_tickers)\n",
    "data_extractor_5.extract_tickers()\n",
    "data_extractor_5.get_returns(start=start, end=end)\n",
    "data_extractor_5.calculate_statistics()\n",
    "rets_df = data_extractor_5.data_clean\n",
    "mu_5 = data_extractor_5.mu\n",
    "Sigma_5 = data_extractor_5.Sigma\n",
    "\n",
    "rets_df.head()"
   ]
  },
  {
   "cell_type": "code",
   "execution_count": 69,
   "metadata": {},
   "outputs": [
    {
     "data": {
      "text/plain": [
       "array([ 2.49717095, -1.21486763,  1.99239314,  1.66829656, -3.94299302])"
      ]
     },
     "execution_count": 69,
     "metadata": {},
     "output_type": "execute_result"
    }
   ],
   "source": [
    "# envisager de coder un truc qui gere des lambdas de plusieurs tailles \n",
    "\n",
    "def get_markowitz_weights(lam, mu, Sigma):\n",
    "    Sigma_inv = np.linalg.inv(Sigma)\n",
    "    n = len(mu)\n",
    "    e = np.ones(n)\n",
    "\n",
    "    eT_Sigma_inv_e = e.T @ Sigma_inv @ e\n",
    "    eT_Sigma_inv_mu = e.T @ Sigma_inv @ mu\n",
    "\n",
    "    term1 = Sigma_inv @ e / eT_Sigma_inv_e\n",
    "    \n",
    "    adjusted_mu = Sigma_inv @ mu - (eT_Sigma_inv_mu / eT_Sigma_inv_e) * (Sigma_inv @ e)\n",
    "    term2 = (1 / lam) * adjusted_mu\n",
    "    w_star = term1 + term2\n",
    "    return w_star"
   ]
  },
  {
   "cell_type": "code",
   "execution_count": 89,
   "metadata": {},
   "outputs": [],
   "source": [
    "lambdas = np.linspace(0.001, 50, 100)\n",
    "weights = np.array(list(map(lambda lam: get_markowitz_weights(lam, mu_5, Sigma_5), lambdas)))"
   ]
  },
  {
   "cell_type": "code",
   "execution_count": 90,
   "metadata": {},
   "outputs": [],
   "source": [
    "mus = []\n",
    "vols = []\n",
    "\n",
    "for weight in weights:\n",
    "    mu_port = weight.T @ mu_5\n",
    "    sigma_port = weight.T @ Sigma_5 @ weight\n",
    "    mus.append(mu_port)\n",
    "    vols.append(np.sqrt(sigma_port))"
   ]
  },
  {
   "cell_type": "code",
   "execution_count": 91,
   "metadata": {},
   "outputs": [
    {
     "data": {
      "text/plain": [
       "Text(0, 0.5, 'mean')"
      ]
     },
     "execution_count": 91,
     "metadata": {},
     "output_type": "execute_result"
    },
    {
     "data": {
      "image/png": "[encoded data removed]",
      "text/plain": [
       "<Figure size 640x480 with 1 Axes>"
      ]
     },
     "metadata": {},
     "output_type": "display_data"
    }
   ],
   "source": [
    "# il me semble que c est de la merde \n",
    "\n",
    "plt.plot(mus, vols)\n",
    "plt.xlabel(\"vol\")\n",
    "plt.ylabel(\"mean\")"
   ]
  },
  {
   "cell_type": "code",
   "execution_count": null,
   "metadata": {},
   "outputs": [],
   "source": []
  }
 ],
 "metadata": {
  "kernelspec": {
   "display_name": "Python 3",
   "language": "python",
   "name": "python3"
  },
  "language_info": {
   "codemirror_mode": {
    "name": "ipython",
    "version": 3
   },
   "file_extension": ".py",
   "mimetype": "text/x-python",
   "name": "python",
   "nbconvert_exporter": "python",
   "pygments_lexer": "ipython3",
   "version": "3.11.5"
  }
 },
 "nbformat": 4,
 "nbformat_minor": 2
}
